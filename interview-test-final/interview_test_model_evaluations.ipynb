{
 "cells": [
  {
   "cell_type": "code",
   "execution_count": 1,
   "id": "6fad9146",
   "metadata": {},
   "outputs": [],
   "source": [
    "import pandas as pd\n",
    "import glob \n",
    "import seaborn as sns\n",
    "from joblib import dump, load\n",
    "from util.DataLoaders import FileDataLoader\n",
    "from util.Predictors import Model, report_to_df\n",
    "import yaml\n",
    "from sklearn.model_selection import train_test_split\n",
    "from sklearn.metrics import classification_report"
   ]
  },
  {
   "cell_type": "code",
   "execution_count": 2,
   "id": "547e6d44",
   "metadata": {},
   "outputs": [],
   "source": [
    "#load data\n",
    "data_loader = FileDataLoader('../data/dataset_experimentation.csv')  # Candidate , instantiate your class here\n",
    "df = data_loader.load_data(impute_nas = True) \n",
    "df = df.dropna()\n",
    "\n",
    "#load target variable and variables to drop\n",
    "with open(\"util/config.yaml\", \"r\") as config:\n",
    "    try:\n",
    "        config_dict = yaml.safe_load(config)\n",
    "\n",
    "        drop_features = config_dict['drop_features']\n",
    "        target_feature = config_dict['target_feature']\n",
    "    except yaml.YAMLError as exc:\n",
    "        print(exc)\n",
    "\n",
    "#split df into train and test sets\n",
    "X = df.drop(drop_features + target_feature, axis=1)\n",
    "y = df[target_feature[0]]\n",
    "X_train, X_valid, y_train, y_valid = train_test_split(X, y, test_size=.3, random_state=42)"
   ]
  },
  {
   "cell_type": "code",
   "execution_count": 3,
   "id": "eb1d707c",
   "metadata": {},
   "outputs": [
    {
     "name": "stdout",
     "output_type": "stream",
     "text": [
      "../interview-test-final/util/trained_models\\LogReg_balanced_SMOTE.joblib\n",
      "                precision recall f1-score support\n",
      "0             0      0.97   0.84     0.90    1974\n",
      "1             1      0.46   0.84     0.59     326\n",
      "2      accuracy       NaN    NaN     0.84    2300\n",
      "3     macro avg      0.71   0.84     0.75    2300\n",
      "4  weighted avg      0.90   0.84     0.85    2300\n",
      "\n",
      "../interview-test-final/util/trained_models\\LogReg_baseline.joblib\n",
      "                precision recall f1-score support\n",
      "0             0      0.92   0.97     0.94    1974\n",
      "1             1      0.71   0.52     0.60     326\n",
      "2      accuracy       NaN    NaN     0.90    2300\n",
      "3     macro avg      0.82   0.74     0.77    2300\n",
      "4  weighted avg      0.89   0.90     0.90    2300\n",
      "\n",
      "../interview-test-final/util/trained_models\\LogReg_SMOTETomek.joblib\n",
      "                precision recall f1-score support\n",
      "0             0      0.97   0.84     0.90    1974\n",
      "1             1      0.46   0.84     0.59     326\n",
      "2      accuracy       NaN    NaN     0.84    2300\n",
      "3     macro avg      0.71   0.84     0.75    2300\n",
      "4  weighted avg      0.90   0.84     0.85    2300\n",
      "\n",
      "../interview-test-final/util/trained_models\\RF_balanced_SMOTE.joblib\n",
      "                precision recall f1-score support\n",
      "0             0      0.93   0.95     0.94    1974\n",
      "1             1      0.66   0.55     0.60     326\n",
      "2      accuracy       NaN    NaN     0.90    2300\n",
      "3     macro avg      0.79   0.75     0.77    2300\n",
      "4  weighted avg      0.89   0.90     0.89    2300\n",
      "\n",
      "../interview-test-final/util/trained_models\\RF_baseline.joblib\n",
      "                precision recall f1-score support\n",
      "0             0      0.91   0.98     0.95    1974\n",
      "1             1      0.81   0.44     0.57     326\n",
      "2      accuracy       NaN    NaN     0.91    2300\n",
      "3     macro avg      0.86   0.71     0.76    2300\n",
      "4  weighted avg      0.90   0.91     0.89    2300\n",
      "\n",
      "../interview-test-final/util/trained_models\\RF_SMOTETomek.joblib\n",
      "                precision recall f1-score support\n",
      "0             0      0.93   0.95     0.94    1974\n",
      "1             1      0.66   0.54     0.59     326\n",
      "2      accuracy       NaN    NaN     0.90    2300\n",
      "3     macro avg      0.79   0.75     0.77    2300\n",
      "4  weighted avg      0.89   0.90     0.89    2300\n",
      "\n"
     ]
    }
   ],
   "source": [
    "#compare classifications reports of each model\n",
    "for filename in glob.glob('../interview-test-final/util/trained_models/*'):\n",
    "    clf = load(f'{filename}')\n",
    "    y_pred = clf.predict(X_valid)\n",
    "    report_df = report_to_df(classification_report(y_valid, y_pred))\n",
    "    print(filename)\n",
    "    print(report_df)\n",
    "    print('')"
   ]
  },
  {
   "cell_type": "code",
   "execution_count": 4,
   "id": "d432e170",
   "metadata": {},
   "outputs": [
    {
     "data": {
      "image/png": "[encoded data removed]",
      "text/plain": [
       "<Figure size 432x288 with 1 Axes>"
      ]
     },
     "metadata": {
      "needs_background": "light"
     },
     "output_type": "display_data"
    }
   ],
   "source": [
    "from sklearn import metrics\n",
    "import matplotlib.pyplot as plt\n",
    "\n",
    "for filename in glob.glob('../interview-test-final/util/trained_models/*'):\n",
    "    clf = load(f'{filename}')\n",
    "    y_pred_proba = clf.predict_proba(X_valid)[::,1]\n",
    "    fpr, tpr, _ = metrics.roc_curve(y_valid,  y_pred_proba)\n",
    "\n",
    "    #create ROC curve\n",
    "    sns.lineplot(x = fpr, y = tpr)\n",
    "    plt.ylabel('True Positive Rate')\n",
    "    plt.xlabel('False Positive Rate')"
   ]
  }
 ],
 "metadata": {
  "kernelspec": {
   "display_name": "Python 3 (ipykernel)",
   "language": "python",
   "name": "python3"
  },
  "language_info": {
   "codemirror_mode": {
    "name": "ipython",
    "version": 3
   },
   "file_extension": ".py",
   "mimetype": "text/x-python",
   "name": "python",
   "nbconvert_exporter": "python",
   "pygments_lexer": "ipython3",
   "version": "3.7.9"
  }
 },
 "nbformat": 4,
 "nbformat_minor": 5
}
