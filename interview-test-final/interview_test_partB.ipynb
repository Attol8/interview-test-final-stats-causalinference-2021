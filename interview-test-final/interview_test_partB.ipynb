{
 "cells": [
  {
   "cell_type": "code",
   "execution_count": 68,
   "id": "ea459264",
   "metadata": {},
   "outputs": [],
   "source": [
    "import pandas as pd\n",
    "import glob \n",
    "import numpy as np\n",
    "import seaborn as sns\n",
    "from util.DataLoaders import FileDataLoader\n",
    "from util.Predictors import Model, report_to_df"
   ]
  },
  {
   "cell_type": "markdown",
   "id": "590ea90b",
   "metadata": {},
   "source": [
    "**Question 1**\n",
    "\n",
    "Did the personalised marketing campaign change the amount of money spent? Please show us\n",
    "what kind of statistical analysis you would do if asked to evaluate an experiment like this\n",
    "\n",
    "Our hypothesis is that the personalised marketing campaign changed the amount of money spent. In order to measure the impact on money spent we can use the variable 'spent_18' which records the amount of money spent by each user last year. Using total money spent may not be optimal, as the actual number of users who effectively received the marketing campaign might vary by chance (see later question). Thus, a good metric that we can use to measure the impact of change is money-spent-per-user. Another Metric that we could use is the y.o.y. increase in money-spent-per-user.  "
   ]
  },
  {
   "cell_type": "code",
   "execution_count": 69,
   "id": "9fb8c815",
   "metadata": {},
   "outputs": [],
   "source": [
    "df = pd.read_csv('..\\data\\dataset_experimentation.csv')\n",
    "df = df.drop_duplicates()"
   ]
  },
  {
   "cell_type": "code",
   "execution_count": 70,
   "id": "0cd6e0e4",
   "metadata": {},
   "outputs": [
    {
     "data": {
      "text/plain": [
       "0    6413\n",
       "1    2186\n",
       "Name: test, dtype: int64"
      ]
     },
     "execution_count": 70,
     "metadata": {},
     "output_type": "execute_result"
    }
   ],
   "source": [
    "df.test.value_counts()"
   ]
  },
  {
   "cell_type": "markdown",
   "id": "609f22e1",
   "metadata": {},
   "source": [
    "Below, We quantitatively test whether the observed difference of changes in money-spent-per-user between the Treatment and Control samples is unlikely, given the Null hypothesis that the two means come from the same popoulations (or, the two means are equal and their difference is 0)."
   ]
  },
  {
   "cell_type": "code",
   "execution_count": 71,
   "id": "70ada23d",
   "metadata": {
    "scrolled": true
   },
   "outputs": [
    {
     "data": {
      "text/plain": [
       "2.172752716218511"
      ]
     },
     "execution_count": 71,
     "metadata": {},
     "output_type": "execute_result"
    }
   ],
   "source": [
    "#observed difference in money-spent-per-user between the Treatment and Control samples \n",
    "spent_18_c = df[df.test == 0].spent_18.values #money spent 2018 - control group\n",
    "spent_18_t = df[df.test == 1].spent_18.values #money spent 2018 - treatment group\n",
    "spent_18_t.mean()  - spent_18_c.mean()"
   ]
  },
  {
   "cell_type": "code",
   "execution_count": 72,
   "id": "d5fdae6f",
   "metadata": {},
   "outputs": [
    {
     "data": {
      "text/plain": [
       "Ttest_indResult(statistic=4.139045527828852, pvalue=3.5607427992031165e-05)"
      ]
     },
     "execution_count": 72,
     "metadata": {},
     "output_type": "execute_result"
    }
   ],
   "source": [
    "from scipy import stats\n",
    "\n",
    "#the metrics have unequal variance \n",
    "if spent_18_t.std() != spent_18_c.std(): equal_var = False\n",
    "\n",
    "#how likely is this difference, given the Null that the means are equal?\n",
    "stats.ttest_ind(spent_18_t, spent_18_c, equal_var = equal_var)"
   ]
  },
  {
   "cell_type": "markdown",
   "id": "8f2bbbdd",
   "metadata": {},
   "source": [
    "**Question 2**\n",
    "\n",
    "Is there something you would check about how the experiment has been set up? How?\n",
    "\n",
    "1) The problem statements suggests that the experiment was a pretty standard randomized trial, where first *a population was defined*. I would be interested in checking how this population was defined. For example, Was the experiment designed to examine a specific geographical, demographic or socioeconomic segment? This is important as selecting a specific segment would change our power to detect the impact of the campaign. \n",
    "\n",
    "2) How long was the campaign? The longer the experiment, more users we should expect the campaign to be targeted to. More importantly, we only have revenue per year. For the results to hold, we need the marketing campaign to target users during the entire year, otherwise we may capture the effect of other varaibles. For example, if the campaign was run in a Holiday period, we may easily capture the effect of Holidays, which is not what we are loking for."
   ]
  },
  {
   "cell_type": "markdown",
   "id": "688fdb73",
   "metadata": {},
   "source": [
    "**Question 3** \n",
    "\n",
    "Can you think of (a) different way(s) to leverage any suitable pre-experiment data for this test? If so, how are the results affected?\n",
    "\n",
    "The metric that we use, moeny-spent-per-user can naturally vary quite a lot. We can use pre-experiment data to control for this natural variation in our metric. CUEPED is a standard technique to do so. \n",
    "\n",
    "Money-Spent-per-user at time $t$ is probably correlated to previous Money-Spent-per-user at time $t-1$. We can check that using our Data."
   ]
  },
  {
   "cell_type": "code",
   "execution_count": 73,
   "id": "e4372468",
   "metadata": {},
   "outputs": [
    {
     "data": {
      "text/plain": [
       "(0.8056982508003442, 0.0)"
      ]
     },
     "execution_count": 73,
     "metadata": {},
     "output_type": "execute_result"
    }
   ],
   "source": [
    "#correlation between Money spent in 2018 and Money spent in 2017\n",
    "from scipy import stats\n",
    "stats.pearsonr(df.spent_18, df.spent_17)"
   ]
  },
  {
   "cell_type": "code",
   "execution_count": 74,
   "id": "741c797a",
   "metadata": {},
   "outputs": [
    {
     "data": {
      "text/plain": [
       "array([[472.61142373, 379.51202949],\n",
       "       [379.51202949, 469.46372052]])"
      ]
     },
     "execution_count": 74,
     "metadata": {},
     "output_type": "execute_result"
    }
   ],
   "source": [
    "np.cov(df.spent_17.values, df.spent_18.values)"
   ]
  },
  {
   "cell_type": "code",
   "execution_count": 75,
   "id": "0080e08e",
   "metadata": {},
   "outputs": [
    {
     "name": "stdout",
     "output_type": "stream",
     "text": [
      "66.48548991865542 66.48548991865543 68.65824263487393 68.65824263487393\n",
      "21.87615690104296 12.80655481804166 20.9529101109173 12.769118992708089\n"
     ]
    }
   ],
   "source": [
    "#calculate the CUEPED adjusted metric\n",
    "spent_17_c = df[df.test == 0].spent_17.values #money spent 2017 - control group\n",
    "spent_17_t = df[df.test == 1].spent_17.values #money spent 2017 - treatment group\n",
    "\n",
    "theta_c = np.cov(spent_17_c, spent_18_c)[0, 1] / np.cov(spent_17_c)\n",
    "theta_t = np.cov(spent_17_t, spent_18_t)[0, 1]  / np.cov(spent_17_t)\n",
    "\n",
    "spent_18_c_adj = spent_18_c - theta_c * (spent_17_c - spent_17_c.mean())\n",
    "spent_18_t_adj = spent_18_t - theta_t * (spent_17_t - spent_17_t.mean())\n",
    "\n",
    "print(spent_18_c.mean(), spent_18_c_adj.mean(), spent_18_t.mean(), spent_18_t_adj.mean())\n",
    "print(spent_18_c.std(), spent_18_c_adj.std(), spent_18_t.std(), spent_18_t_adj.std())"
   ]
  },
  {
   "cell_type": "markdown",
   "id": "580a0cb7",
   "metadata": {},
   "source": [
    "As we can see, we reduced our metrics standard deviation by quite a lot."
   ]
  },
  {
   "cell_type": "code",
   "execution_count": 76,
   "id": "ddebf731",
   "metadata": {},
   "outputs": [
    {
     "data": {
      "text/plain": [
       "Ttest_indResult(statistic=6.863956835097949, pvalue=7.792886913920218e-12)"
      ]
     },
     "execution_count": 76,
     "metadata": {},
     "output_type": "execute_result"
    }
   ],
   "source": [
    "#repeating the same analysis, we confirm that we increase statistical power\n",
    "\n",
    "#the metrics have unequal variance \n",
    "if spent_18_t_adj.std() != spent_18_c_adj.std(): equal_var = False\n",
    "  \n",
    "stats.ttest_ind(spent_18_t_adj, spent_18_c_adj, equal_var = equal_var)"
   ]
  },
  {
   "cell_type": "markdown",
   "id": "acabe1bf",
   "metadata": {},
   "source": [
    "**Question 4**\n",
    "\n",
    "Our personalisation experts suggested there might be subgroups among the customers for which the experiment worked better than for the rest. What kind of statistical analysis / causal modelling would you do to investigate this possibility?\n",
    "\n",
    "Different effects across groups are definitely a possibility, especially if the population on which we ran the experiment was not segmented (see question 2) and all users (or average type of users) were targeted by the marketing campaign. For example, it may be supposed that the campaign worked differently, and had a different impact, for different users device. Then, we would have to compare the effect of the marketing campaign on money spent based on the type of device (tablet, pc, laptop, smartphone) used. Many other possible segmentations are available. \n",
    "\n",
    "One possible solution is to test if interactions are significant in the following logistic regression model: \n",
    "\n",
    "$moneyspent18 = \\beta_1 device type * treatment group$\n",
    "\n",
    "If the coefficient related to the interaction term is significant, we can conclude that the effect of the treatment varies between users with different device types."
   ]
  },
  {
   "cell_type": "markdown",
   "id": "9562b173",
   "metadata": {},
   "source": [
    "**Question 5**\n",
    "\n",
    "Did the campaign affect how many users reported a great customer experience?"
   ]
  },
  {
   "cell_type": "code",
   "execution_count": 77,
   "id": "4aa188b5",
   "metadata": {},
   "outputs": [
    {
     "data": {
      "text/plain": [
       "-0.009154124120878099"
      ]
     },
     "execution_count": 77,
     "metadata": {},
     "output_type": "execute_result"
    }
   ],
   "source": [
    "#observed difference of changes in money-spent-per-user between the Treatment and Control samples \n",
    "gcc_18_c = df[df.test == 0].great_customer_class.values #money spent 2018 - control group\n",
    "gcc_18_t = df[df.test == 1].great_customer_class.values #money spent 2018 - treatment group\n",
    "gcc_18_t.mean()  - gcc_18_c.mean()"
   ]
  },
  {
   "cell_type": "code",
   "execution_count": 78,
   "id": "7c30505d",
   "metadata": {},
   "outputs": [
    {
     "data": {
      "text/plain": [
       "Ttest_indResult(statistic=-1.0787735744503235, pvalue=0.2807189435702946)"
      ]
     },
     "execution_count": 78,
     "metadata": {},
     "output_type": "execute_result"
    }
   ],
   "source": [
    "#how likely is this difference, given the Null that the means are equal?\n",
    "from scipy import stats\n",
    "\n",
    "#the metrics have unequal variance \n",
    "if gcc_18_t.std() != gcc_18_c.std(): equal_var = False\n",
    "\n",
    "stats.ttest_ind(gcc_18_t, gcc_18_c)"
   ]
  },
  {
   "cell_type": "markdown",
   "id": "438fb8ef",
   "metadata": {},
   "source": [
    "We cannot conclude that the campaign affected how many users reported a gret customer experience"
   ]
  },
  {
   "cell_type": "markdown",
   "id": "d2973bd4",
   "metadata": {},
   "source": [
    "**Question 6**\n",
    "\n",
    "You learn that only about a third of all personalised messages were actually sent, but we don’t know which users received them. All sent messages were read, though. Does this change what you think about the impact of the personalised messages on spending?\n",
    "\n",
    "Yes, it does. We can leverage simulations of the experiments in which only a third of the users in the treatment group are considered, and the others are left in the control group. In order to understand the impact of the personalised messages, my strategy is the following:\n",
    "1. Randomly select a third of the users in the treatment group \n",
    "2. Exclude these users from the treatment group and insert them in the control group\n",
    "3. compute the p-value associated with a t-test, comparing spending means of the two newly created groups\n",
    "\n",
    "We can repeat the above steps many times and plot a distribution of the p-values to get an expected value. "
   ]
  },
  {
   "cell_type": "code",
   "execution_count": 79,
   "id": "8b092f32",
   "metadata": {},
   "outputs": [
    {
     "name": "stderr",
     "output_type": "stream",
     "text": [
      "100%|███████████████████████████████████████████████████████████████████████████████████████████████████████████████████████████████████████████████████████████████████████████████████| 1000/1000 [01:26<00:00, 11.52it/s]\n"
     ]
    },
    {
     "data": {
      "text/plain": [
       "<seaborn.axisgrid.FacetGrid at 0x20ffd0e82c8>"
      ]
     },
     "execution_count": 79,
     "metadata": {},
     "output_type": "execute_result"
    },
    {
     "data": {
      "image/png": "[encoded data removed]",
      "text/plain": [
       "<Figure size 360x360 with 1 Axes>"
      ]
     },
     "metadata": {
      "needs_background": "light"
     },
     "output_type": "display_data"
    }
   ],
   "source": [
    "from tqdm import tqdm\n",
    "n = 1000\n",
    "\n",
    "p_values = []\n",
    "for _ in tqdm(range(n)):\n",
    "    df_simulation = df.copy()\n",
    "    sent_idxs = df_simulation[df_simulation.test == 1].sample(frac = 1/3).index.tolist() #indexes of the users who received the message\n",
    "    not_sent_idxs = [x for x in df_simulation.index.tolist() if x not in sent_idxs] #indexes of users who did not receive the message\n",
    "    assert len(sent_idxs + not_sent_idxs) == len(df_simulation)\n",
    "    df_simulation.loc[not_sent_idxs, 'test'] = 0 #assign the rest of the users to control group\n",
    "    \n",
    "    #observed difference in money-spent-per-user between the Treatment and Control samples \n",
    "    spent_18_c = df_simulation[df_simulation.test == 0].spent_18.values #money spent 2018 - control group\n",
    "    spent_18_t = df_simulation[df_simulation.test == 1].spent_18.values #money spent 2018 - treatment group\n",
    "    p_values.append(stats.ttest_ind(spent_18_t, spent_18_c, equal_var = False)[1])\n",
    "    \n",
    "sns.displot(p_values)"
   ]
  },
  {
   "cell_type": "code",
   "execution_count": 80,
   "id": "56adf6f0",
   "metadata": {},
   "outputs": [
    {
     "data": {
      "text/plain": [
       "0.09267778262559853"
      ]
     },
     "execution_count": 80,
     "metadata": {},
     "output_type": "execute_result"
    }
   ],
   "source": [
    "np.mean(p_values)"
   ]
  },
  {
   "cell_type": "markdown",
   "id": "b5259986",
   "metadata": {},
   "source": [
    "With an alpha value of 0.05, On average, we would not reject the Null Hypothesis that the the two means come from the same popoulations, and that the campaign did not have an effect on money spent. Hence, the new information definitely changes what we think about the impact of the personalised messages on spending."
   ]
  }
 ],
 "metadata": {
  "kernelspec": {
   "display_name": "Python 3 (ipykernel)",
   "language": "python",
   "name": "python3"
  },
  "language_info": {
   "codemirror_mode": {
    "name": "ipython",
    "version": 3
   },
   "file_extension": ".py",
   "mimetype": "text/x-python",
   "name": "python",
   "nbconvert_exporter": "python",
   "pygments_lexer": "ipython3",
   "version": "3.7.9"
  }
 },
 "nbformat": 4,
 "nbformat_minor": 5
}
